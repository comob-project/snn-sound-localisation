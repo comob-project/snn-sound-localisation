{
  "cells": [
    {
      "cell_type": "markdown",
      "id": "dfb23669",
      "metadata": {
        "id": "dfb23669"
      },
      "source": [
        "# Sound localisation with surrogate gradient descent\n",
        "\n",
        "This is a concise version of the SNN implementation of the sound localization task. Detailed explanations from the tutorial are removed to make it an accessible code to develop you project."
      ]
    },
    {
      "cell_type": "markdown",
      "source": [
        "## To setup before you start\n",
        "First, download a copy of this notebook to your personal google drive:\n",
        "1. mount your google drive"
      ],
      "metadata": {
        "id": "Dg9b4XdMDjPl"
      },
      "id": "Dg9b4XdMDjPl"
    },
    {
      "cell_type": "code",
      "source": [
        "from google.colab import drive\n",
        "drive.mount('/content/drive')"
      ],
      "metadata": {
        "colab": {
          "base_uri": "https://localhost:8080/"
        },
        "id": "9hL7mQSV_tCi",
        "outputId": "db1f0d6a-ccca-487b-d262-1ca0503c47cb"
      },
      "id": "9hL7mQSV_tCi",
      "execution_count": null,
      "outputs": [
        {
          "output_type": "stream",
          "name": "stdout",
          "text": [
            "Drive already mounted at /content/drive; to attempt to forcibly remount, call drive.mount(\"/content/drive\", force_remount=True).\n"
          ]
        }
      ]
    },
    {
      "cell_type": "markdown",
      "source": [
        "2. Save a copy of the notebook to your drive: \"Files\" => \"Save a copy in Drive\"\n",
        "3. Locate where this copy was saved in your dirve: \"Files\" => \"Locate in Drive\"\n",
        "4. Now you can rename the located file and move it to a location of your choice in your google drive\n"
      ],
      "metadata": {
        "id": "mdi_e2fvE1FW"
      },
      "id": "mdi_e2fvE1FW"
    },
    {
      "cell_type": "markdown",
      "source": [
        "## Data Generation"
      ],
      "metadata": {
        "id": "Zq-l_P7uFEY_"
      },
      "id": "Zq-l_P7uFEY_"
    },
    {
      "cell_type": "code",
      "execution_count": null,
      "id": "ee3c91b7",
      "metadata": {
        "id": "ee3c91b7"
      },
      "outputs": [],
      "source": [
        "import os\n",
        "\n",
        "import numpy as np\n",
        "import matplotlib.pyplot as plt\n",
        "from matplotlib.gridspec import GridSpec\n",
        "\n",
        "import torch\n",
        "import torch.nn as nn\n",
        "\n",
        "dtype = torch.float\n",
        "\n",
        "# Check whether a GPU is available\n",
        "if torch.cuda.is_available():\n",
        "    device = torch.device(\"cuda\")\n",
        "else:\n",
        "    device = torch.device(\"cpu\")\n",
        "\n",
        "my_computer_is_slow = True # set this to True if using Colab\n",
        "\n",
        "import pdb\n",
        "import pandas as pd"
      ]
    },
    {
      "cell_type": "markdown",
      "source": [
        "### Input signal parameter configuration\n",
        "\n",
        "Here's a picture of the architecture for the stimuli:\n",
        "\n",
        "\n",
        "<img src=\"https://github.com/neural-reckoning/cosyne-tutorial-2022/blob/main/arch-stimuli.png?raw=1\" alt=\"Stimuli architecture\" width=\"400\" height=\"240\">"
      ],
      "metadata": {
        "id": "EIBg54r7OySj"
      },
      "id": "EIBg54r7OySj"
    },
    {
      "cell_type": "code",
      "source": [
        "# We use the following constants to make equations look nicer below\n",
        "second = 1\n",
        "ms = 1e-3\n",
        "Hz = 1\n",
        "\n",
        "# Stimulus and simulation parameters\n",
        "dt = 1*ms            # large time step to make simulations run faster for tutorial\n",
        "anf_per_ear = 100    # number of auditory nerve fibers connected to each ear with independent noise\n",
        "envelope_power = 2   # higher values make sharper envelopes. Easier by eye => But does the network perform better ?\n",
        "rate_max = 600*Hz    # maximum Poisson firing rate\n",
        "f = 20*Hz            # stimulus frequency\n",
        "duration = .1*second # stimulus duration\n",
        "duration_steps = int(np.round(duration/dt))  # number of simulation steps\n",
        "input_size = 2*anf_per_ear"
      ],
      "metadata": {
        "id": "9DL57fuXOxMP"
      },
      "id": "9DL57fuXOxMP",
      "execution_count": null,
      "outputs": []
    },
    {
      "cell_type": "markdown",
      "id": "345a4686",
      "metadata": {
        "id": "345a4686"
      },
      "source": [
        "### Input signal generation function\n"
      ]
    },
    {
      "cell_type": "markdown",
      "id": "bd312e52",
      "metadata": {
        "id": "bd312e52"
      },
      "source": [
        "The functions below return two arrays ``ipd`` and ``spikes``.\n",
        "\n",
        "- ``ipd`` is an array of length ``num_samples`` that gives the true IPD,\n",
        "- ``spikes`` is an array of 0 (no spike) and 1 (spike) of shape ``(num_samples, duration_steps, 2*anf_per_ear)``, where - ``duration_steps`` is the number of time steps there are in the stimulus."
      ]
    },
    {
      "cell_type": "code",
      "execution_count": null,
      "id": "5bb26693",
      "metadata": {
        "id": "5bb26693"
      },
      "outputs": [],
      "source": [
        "# Generate an input signal (spike array) from array of true IPDs\n",
        "def input_signal(ipd, envelope_power=envelope_power):\n",
        "    \"\"\"\n",
        "  Generate a Poisson spike train based on an input Interaural Phase Difference (IPD) array\n",
        "  and the delays imposed by the individual auditory nerve fibers.\n",
        "\n",
        "    Parameters\n",
        "    ----------\n",
        "    ipd : array-like\n",
        "        An array of true Interaural Phase Differences (IPD). Shape: (num_samples, )\n",
        "    envelope_power : float, optional\n",
        "        A parameter controlling the strength of the signal envelope, which modulates\n",
        "        the spike train generation. Default value is the globally defined `envelope_power`.\n",
        "\n",
        "    Returns\n",
        "    -------\n",
        "    spikes : ndarray\n",
        "        A binary array indicating spike occurrences, shaped (num_samples, duration_steps, 2*anf_per_ear).\n",
        "        `spikes[i, j, k]` is 1 if a spike occurred at the jth time step for the ith IPD in the kth auditory nerve fiber,\n",
        "        and 0 otherwise.\n",
        "\n",
        "    Notes\n",
        "    -----\n",
        "    - The function first calculates an array of phases (`phi`) to define the sinudoidal auditory stimulus and adds a random\n",
        "    phase offset because we want that the system learns to infer the angular location of the sound source indepent of its distance\n",
        "    to the source.\n",
        "    - An array of theta values is initialized that will hold the transformed phi values according to the phase delay  imposed by the\n",
        "    individual auditory nerve fibers and the ipd between the two ears.\n",
        "    - Different phase delays, ranging from 0 to pi/2, are calculated and added with the ipd value to generate theta.\n",
        "    - Poisson spikes are generated based on the theta values and a sinusoidal modulation of the firing rate.\n",
        "    - The spikes are returned as a binary array, indicating the occurrence of spikes across auditory nerve fibers and time.\n",
        "  \"\"\"\n",
        "    num_samples = len(ipd) # corresponds to the number of different locations of the source in the data set\n",
        "\n",
        "    T = np.arange(duration_steps)*dt # array of times over which the auditory signal is constructed\n",
        "    phi = 2*np.pi*(f*T) + 2*np.pi*np.random.rand() # array of phases corresponding to those times with random offset\n",
        "    # because we want that the system learns to infer the angular location of the sound source indepent of its distance\n",
        "    # to the source. The phase in this array increases linearly.\n",
        "\n",
        "    phase_delays = np.linspace(0, np.pi/2, anf_per_ear) # array of phase delays introduced by the auditory nerve fibers.\n",
        "    # For each ear, we have anf_per_ear different phase delays from 0 to pi/2 so\n",
        "    # that the differences between the two ears can cover the full range from -pi/2 to pi/2\n",
        "\n",
        "    theta = np.zeros((num_samples, duration_steps, 2*anf_per_ear)) # 3D array that holds the spike pattern of all auditory nerve fibers for all the interaural phase difference in the data set.\n",
        "    # num_samples = number of different IPD values in our data set\n",
        "    # duration_step = number of time points in our auditory signal\n",
        "    # 2*anf_per_ear = total number of auditory nerve fibers\n",
        "\n",
        "    # Now we set up these theta values. Some numpy vectorisation logic using broadcasting to implements the idea in the text above.\n",
        "    theta[:, :, :anf_per_ear] = phi[np.newaxis, :, np.newaxis]+phase_delays[np.newaxis, np.newaxis, :]\n",
        "    theta[:, :, anf_per_ear:] = phi[np.newaxis, :, np.newaxis]+phase_delays[np.newaxis, np.newaxis, :]+ipd[:, np.newaxis, np.newaxis]\n",
        "\n",
        "    # now generate Poisson spikes at the given firing rate as in the previous notebook\n",
        "    spikes = rate_max*dt*(0.5*(1+np.sin(theta)))**envelope_power > np.random.rand(num_samples, duration_steps, 2*anf_per_ear)\n",
        "    return spikes, theta\n",
        "\n",
        "# Generate some true IPDs from (-pi/2, pi/2) and corresponding spike arrays\n",
        "def random_ipd_input_signal(num_samples, envelope_power=envelope_power, tensor=True):\n",
        "    \"\"\"\n",
        "    Generate random Interaural Phase Differences (IPDs) and then corresponding spike arrays using\n",
        "    the function input_signal(idp).\n",
        "\n",
        "      The function generates `num_samples` IPDs, uniformly distributed in the range (-pi/2, pi/2).\n",
        "      It then generates corresponding spike arrays using the `input_signal` function.\n",
        "      Optionally, IPDs and spike arrays can be converted to PyTorch tensors.\n",
        "\n",
        "      Parameters\n",
        "      ----------\n",
        "      num_samples : int\n",
        "          The number of IPD samples to generate.\n",
        "      envelope_power : float, optional\n",
        "          A parameter controlling the strength of the signal envelope, which modulates\n",
        "          the spike train generation. Default value is the globally defined `envelope_power`.\n",
        "\n",
        "      tensor : bool, optional\n",
        "          If True, converts the IPDs and spike arrays to PyTorch tensors before returning them.\n",
        "          If False, they are returned as NumPy arrays. Default is True.\n",
        "\n",
        "      Returns\n",
        "      -------\n",
        "      ipd : ndarray or Tensor\n",
        "          An array of randomly generated IPDs. Shape: (num_samples, ).\n",
        "          Returned as a PyTorch tensor if `tensor` is True, otherwise as a NumPy array.\n",
        "      spikes : ndarray or Tensor\n",
        "          A binary array indicating spike occurrences along time, generated by `input_signal` based on `ipd`.\n",
        "          Returned as a PyTorch tensor if `tensor` is True, otherwise as a NumPy array.\n",
        "          Shaped: (num_samples, duration_steps, 2*anf_per_ear)\n",
        "\n",
        "      Notes\n",
        "      -----\n",
        "      - Ensure that the `input_signal` function is defined in your environment as it is called within this function.\n",
        "      - If `tensor` is True, ensure that PyTorch is installed and configured in your environment.\n",
        "\n",
        "      Examples\n",
        "      --------\n",
        "      >>> ipd, spikes = random_ipd_input_signal(50, tensor=False)\n",
        "      >>> print(ipd.shape, spikes.shape)\n",
        "      (50,) (50, duration_steps, 2*anf_per_ear)\n",
        "  \"\"\"\n",
        "    ipd = np.random.rand(num_samples)*np.pi-np.pi/2 # uniformly random in (-pi/2, pi/2)\n",
        "    spikes, theta = input_signal(ipd)\n",
        "    if tensor:\n",
        "        ipd = torch.tensor(ipd, device=device, dtype=dtype)\n",
        "        spikes = torch.tensor(spikes, device=device, dtype=dtype)\n",
        "    return ipd, spikes, theta\n",
        "\n"
      ]
    },
    {
      "cell_type": "markdown",
      "source": [
        "#### Test the input data generation fuction"
      ],
      "metadata": {
        "id": "90RackY1Ljz_"
      },
      "id": "90RackY1Ljz_"
    },
    {
      "cell_type": "code",
      "source": [
        "# Plot for a few true IPDs the generated spike trains of the auditory nerve fibers to show how it looks.\n",
        "# The first 100 lines are auditory nerve fiber responses of the righ ear and the others are from the left ear.\n",
        "# You note that the IPDs was applied to the left ear's fibers.\n",
        "ipd, spikes, _ = random_ipd_input_signal(8)\n",
        "plt.figure(figsize=(10, 4), dpi=100)\n",
        "for i in range(8):\n",
        "    plt.subplot(2, 4, i+1)\n",
        "    plt.imshow(spikes[i, :, :].T, aspect='auto', interpolation='nearest', cmap=plt.cm.gray_r)\n",
        "    plt.title(f'True IPD = {int(ipd[i]*180/np.pi)} deg')\n",
        "    if i>=4:\n",
        "        plt.xlabel('Time (steps)')\n",
        "    if i%4==0:\n",
        "        plt.ylabel('Input neuron index')\n",
        "plt.tight_layout()"
      ],
      "metadata": {
        "colab": {
          "base_uri": "https://localhost:8080/",
          "height": 341
        },
        "id": "Q2i6kOPZLiu3",
        "outputId": "25a35939-2256-4986-df72-b0e9a318130d"
      },
      "id": "Q2i6kOPZLiu3",
      "execution_count": null,
      "outputs": [
        {
          "output_type": "display_data",
          "data": {
            "text/plain": [
              "<Figure size 1000x400 with 8 Axes>"
            ],
            "image/png": "[encoded data removed]"
          },
          "metadata": {}
        }
      ]
    },
    {
      "cell_type": "markdown",
      "id": "177a735f",
      "metadata": {
        "id": "177a735f"
      },
      "source": [
        "### Classification helper functions\n",
        "\n",
        "The objective is to take the input spike data and infer the **Interaural Phase Difference (IPD)** using a neural network. To achieve this, we will:\n",
        "\n",
        "- **Discretize the IPD range** into categories (segments).  \n",
        "- **Train a neural network** to predict the category (segment) to which the input belongs.\n",
        "\n",
        "  This classification approach simplifies the continuous IPD estimation problem by transforming it into a discrete class prediction task, making it computationally efficient and suitable for neural network-based learning.\n",
        "\n",
        "\n",
        "\n",
        "\n",
        "#### We define two helper functions:\n",
        "\n",
        "Function 1: discretise(ipds)\n",
        "  - This function discretises the IPD range into $N_c$ classes.\n",
        "\n",
        "Function 2: continuise(ipd_indices)\n",
        "  - This function maps IPD indices back to continuous IPD values.\n",
        "\n",
        "\n"
      ]
    },
    {
      "cell_type": "code",
      "execution_count": null,
      "id": "3f817078",
      "metadata": {
        "id": "3f817078",
        "outputId": "a91cfbc7-c14a-43ba-86f6-9f41ef30077a",
        "colab": {
          "base_uri": "https://localhost:8080/"
        }
      },
      "outputs": [
        {
          "output_type": "stream",
          "name": "stdout",
          "text": [
            "Number of classes = 12\n"
          ]
        }
      ],
      "source": [
        "# classes at 15 degree increments\n",
        "num_classes = 180//15\n",
        "print(f'Number of classes = {num_classes}')\n",
        "\n",
        "def discretise(ipds):\n",
        "    \"\"\"\n",
        "      Discretize Interaural Phase Differences (IPDs) to generate class labels.\n",
        "\n",
        "      The function maps IPDs, which are continuous values in the range (-pi/2, pi/2),\n",
        "      to discrete classes in the range [0, num_classes-1]. The resulting discrete values\n",
        "      are suitable for classification tasks.\n",
        "\n",
        "        Parameters\n",
        "        ----------\n",
        "        ipds : Tensor\n",
        "            A tensor containing continuous IPD values. The values should be in the range (-pi/2, pi/2).\n",
        "\n",
        "        Returns\n",
        "        -------\n",
        "        Tensor\n",
        "            A tensor containing the classification of IPD values, in the range [0, num_classes-1].\n",
        "\n",
        "        Notes\n",
        "        -----\n",
        "        - Assumes the input `ipds` is a PyTorch tensor.\n",
        "        - `num_classes` should be defined in the surrounding scope.\n",
        "        - The output tensor will have the same shape as the input `ipds`.\n",
        "\n",
        "        Examples\n",
        "        --------\n",
        "        >>> ipds = torch.tensor([-np.pi/2, 0, np.pi/2])\n",
        "        >>> ipd_indices = discretise(ipds)\n",
        "    \"\"\"\n",
        "    return ((ipds+np.pi/2)*num_classes/np.pi).long() # assumes input is tensor\n",
        "\n",
        "def continuise(ipd_indices): # convert indices back to IPD midpoints\n",
        "    \"\"\"\n",
        "      This function maps IPD indices, which are discrete values in the range [0, num_classes-1],\n",
        "      back to continuous IPD values. The resulting continuous values are suitable for\n",
        "      representing the midpoints of the original IPD ranges in the continuous domain.\n",
        "\n",
        "        Parameters\n",
        "        ----------\n",
        "        ipd_indices : array-like\n",
        "            An array or tensor of IPD indices, which are discrete values obtained from\n",
        "            discretizing continuous IPDs into `num_classes` bins by the function discretise(ipds).\n",
        "\n",
        "        Returns\n",
        "        -------\n",
        "        array-like\n",
        "            An array or tensor of continuous IPD midpoints, corresponding to the provided\n",
        "            `ipd_indices`. The midpoints are computed based on the assumed discretization\n",
        "            strategy, and are in the range (-pi/2, pi/2).\n",
        "\n",
        "        Notes\n",
        "        -----\n",
        "        - `num_classes` should be defined in the surrounding scope and should be the same\n",
        "          value that was used for discretization.\n",
        "        - The input `ipd_indices` and the output will have the same shape.\n",
        "        - The output type (e.g., NumPy array, PyTorch tensor) will match the input type.\n",
        "    \"\"\"\n",
        "    return (ipd_indices+0.5)/num_classes*np.pi-np.pi/2"
      ]
    },
    {
      "cell_type": "markdown",
      "source": [
        "### Batch and sample size configuration\n",
        "\n",
        "sample size = batch_size * n_training_batches"
      ],
      "metadata": {
        "id": "zvdDe_9rizLj"
      },
      "id": "zvdDe_9rizLj"
    },
    {
      "cell_type": "code",
      "source": [
        "# Parameters for training. These aren't optimal, but instead designed\n",
        "# to give a reasonable result in a small amount of time for the tutorial!\n",
        "if my_computer_is_slow:\n",
        "    batch_size = 64\n",
        "    n_training_batches = 64\n",
        "else:\n",
        "    batch_size = 128\n",
        "    n_training_batches = 128\n",
        "n_testing_batches = 32\n",
        "num_samples = batch_size*n_training_batches\n",
        "\n",
        "# NOTE 1:A batch is a subset of the training dataset used for a single update of the model parameters.\n",
        "# Rather than updating model parameters after processing each individual data point (stochastic gradient descent),\n",
        "# batches allow the network to update parameters after processing a group of data points.\n",
        "# This approach is called mini-batch gradient descent and is more computationally efficient than stochastic gradient descent.\n",
        "# The size of a batch, known as the batch size, is an important hyperparameter and can affect\n",
        "# the model's training dynamics and performance.\n",
        "\n",
        "# NOTE2 : Small batch sizes improve generalization through noisier gradients and\n",
        "# require less memory, making them ideal for limited resources, but they may\n",
        "# lead to slower computation and less stable convergence due to noisier gradient\n",
        "# updates. Conversely, large batch sizes enhance computational efficiency and stability\n",
        "# of gradient estimates due to better GPU utilization, but they demand more memory and\n",
        "# might result in poorer generalization due to the risk of converging to sharp minima\n",
        "# that don't generalize well on unseen data."
      ],
      "metadata": {
        "id": "uykR63jhP3b1"
      },
      "id": "uykR63jhP3b1",
      "execution_count": null,
      "outputs": []
    },
    {
      "cell_type": "markdown",
      "source": [
        "### Data generator function (iterating over the data in batches)"
      ],
      "metadata": {
        "id": "faW6ygTkP8T9"
      },
      "id": "faW6ygTkP8T9"
    },
    {
      "cell_type": "code",
      "execution_count": null,
      "id": "fc5fdc4f",
      "metadata": {
        "id": "fc5fdc4f"
      },
      "outputs": [],
      "source": [
        "# Generator function iterates over the data in batches\n",
        "# We randomly permute the order of the data to improve learning\n",
        "def data_generator(ipds, spikes):\n",
        "    \"\"\"\n",
        "    Generate batches of data, iterating over IPDs and spikes in a randomized order.\n",
        "\n",
        "    This generator function yields shuffled batches of interaural phase differences (IPDs) and spikes,\n",
        "    facilitating mini-batch gradient descent training of a model. The order of the data is randomized\n",
        "    to improve learning, mitigating the risk of the model memorizing the order of the training data\n",
        "    (overfitting) and helping the model generalize better to unseen data.\n",
        "\n",
        "      Parameters\n",
        "      ----------\n",
        "      ipds : Tensor\n",
        "          A 1D tensor of IPD values.\n",
        "          Shape: (n_samples, )\n",
        "      spikes : Tensor\n",
        "          A 3D tensor representing a batch of input spike trains.\n",
        "          Shape: (n_samples, duration_steps, input_size)\n",
        "\n",
        "      Yields\n",
        "      ------\n",
        "      spike_batch : Tensor\n",
        "          A 3D tensor containing a batch of input spike trains.\n",
        "          Shape: (batch_size, duration_steps, input_size)\n",
        "      ipd_batch : Tensor\n",
        "          A 1D tensor containing a batch of IPD values.\n",
        "          Shape: (batch_size, )\n",
        "\n",
        "      Notes\n",
        "      -----\n",
        "      - `batch_size` should be defined in the surrounding scope or passed as an argument.\n",
        "      - Ensure that `ipds` and the first dimension of `spikes` have the same size.\n",
        "      - The generator yields `spike_batch` and `ipd_batch` which are randomly shuffled batches of `spikes` and `ipds` respectively.\n",
        "    \"\"\"\n",
        "    perm = torch.randperm(spikes.shape[0])\n",
        "    spikes = spikes[perm, :, :]\n",
        "    ipds = ipds[perm]\n",
        "    n, _, _ = spikes.shape\n",
        "    n_batch = n//batch_size\n",
        "    for i in range(n_batch):\n",
        "        spike_batch = spikes[i*batch_size:(i+1)*batch_size, :, :]  # spike_batch\n",
        "        ipd_batch   = ipds[i*batch_size:(i+1)*batch_size]          # ipd_batch\n",
        "        yield spike_batch, ipd_batch               # yield means that at each function call the function returns the next result of the loop interation"
      ]
    },
    {
      "cell_type": "markdown",
      "id": "3bb91016",
      "metadata": {
        "id": "3bb91016"
      },
      "source": [
        "## Construct the Spiking Model\n",
        "\n",
        "Next we'll implement a version of the model with spikes to see how that changes performance. We'll just add a single hidden feed-forward layer of spiking neurons between the input and the output layers. This layer will be spiking, so we need to use the surrogate gradient descent approach.\n",
        "\n",
        "\n",
        "\n",
        "<img src=\"https://github.com/neural-reckoning/cosyne-tutorial-2022/blob/main/arch-full.png?raw=1\" alt=\"Full architecture\" width=\"500\" height=\"240\">"
      ]
    },
    {
      "cell_type": "markdown",
      "id": "03f5456e",
      "metadata": {
        "id": "03f5456e"
      },
      "source": [
        "#### Surrogate gradient descent setup\n",
        "\n",
        "First, this is the key part of surrogate gradient descent, a function where we override the computation of the gradient to replace it with a smoothed gradient. You can see that in the forward pass (method ``forward``) it returns the Heaviside function of the input (takes value 1 if the input is ``>0``) or value 0 otherwise. In the backwards pass, it returns the gradient of a sigmoid function."
      ]
    },
    {
      "cell_type": "code",
      "execution_count": null,
      "id": "e5fabc7b",
      "metadata": {
        "id": "e5fabc7b"
      },
      "outputs": [],
      "source": [
        "beta = 5\n",
        "\n",
        "class SurrGradSpike(torch.autograd.Function):\n",
        "    \"\"\"\n",
        "      This class allows for the approximation of gradients for non-differentiable spiking functions, enabling\n",
        "      the backpropagation of errors in networks that incorporate spiking neurons. The forward method applies\n",
        "      a thresholding logic, mimicking the firing of a neuron, while the backward method implements the surrogate\n",
        "      gradient calculation.\n",
        "\n",
        "      Methods\n",
        "      -------\n",
        "      @staticmethod\n",
        "      forward(ctx, input):\n",
        "          Computes the forward propagation step in the neural network. This method applies a specific logic to\n",
        "          mimic the all-or-none spiking nature of biological neurons. It generates a binary output corresponding\n",
        "          to whether each neuron in the input tensor has fired or not.\n",
        "          Parameters:\n",
        "              ctx : torch.autograd.function._ContextMethodMixin\n",
        "                  A context object for storing information necessary for the backward computation.\n",
        "              input : torch.Tensor\n",
        "                  A tensor containing the input data, typically the neuronal activations in form of the membrane potential,\n",
        "                  for which the output firing response will be computed.\n",
        "          Returns:\n",
        "              torch.Tensor: A tensor with the same shape as input, filled with binary values indicating whether\n",
        "              each neuron has fired (1.0) or not (0.0).\n",
        "\n",
        "      @staticmethod\n",
        "      backward(ctx, grad_output):\n",
        "          Computes the backward propagation step in the neural network. This method calculates the surrogate\n",
        "          gradients of the loss function with respect to the input activations. It is designed to work with\n",
        "          the non-differentiable nature of spiking neurons by approximating the gradients.\n",
        "          Parameters:\n",
        "              ctx : torch.autograd.function._ContextMethodMixin\n",
        "                  A context object that has the information stashed during the forward pass.\n",
        "              grad_output : torch.Tensor\n",
        "                  A tensor containing the gradient of the loss function with respect to the outputs of the forward method.\n",
        "          Returns:\n",
        "              torch.Tensor: A tensor containing the surrogate gradients of the loss function with respect to\n",
        "              the input activations, which can be backpropagated through the rest of the network.\n",
        "      \"\"\"\n",
        "    @staticmethod\n",
        "    def forward(ctx, input):\n",
        "        ctx.save_for_backward(input)\n",
        "        out = torch.zeros_like(input)\n",
        "        out[input > 0] = 1.0\n",
        "        return out\n",
        "    @staticmethod\n",
        "    def backward(ctx, grad_output):\n",
        "        input, = ctx.saved_tensors\n",
        "        # Original SPyTorch/SuperSpike gradient\n",
        "        # This seems to be a typo or error? But it works well\n",
        "        # grad = grad_output/(100*torch.abs(input)+1.0)**2\n",
        "        # Sigmoid\n",
        "        grad = grad_output*beta*torch.sigmoid(beta*input)*(1-torch.sigmoid(beta*input))\n",
        "        return grad\n",
        "\n",
        "spike_fn  = SurrGradSpike.apply   # allows the defined class to be used as a function."
      ]
    },
    {
      "cell_type": "markdown",
      "id": "911318ee",
      "metadata": {
        "id": "911318ee"
      },
      "source": [
        "#### Network creation function: init_weight_matrices()\n",
        "\n"
      ]
    },
    {
      "cell_type": "code",
      "source": [
        "num_hidden = 30\n",
        "\n",
        "# Weights and uniform weight initialisation\n",
        "def init_weight_matrices():\n",
        "    # Input to hidden layer\n",
        "    W1 = nn.Parameter(torch.empty((input_size, num_hidden), device=device, dtype=dtype, requires_grad=True))\n",
        "    fan_in, _ = nn.init._calculate_fan_in_and_fan_out(W1)\n",
        "    bound = 1 / np.sqrt(fan_in)\n",
        "    nn.init.uniform_(W1, -bound, bound)\n",
        "    # Hidden layer to output\n",
        "    W2 = nn.Parameter(torch.empty((num_hidden, num_classes), device=device, dtype=dtype, requires_grad=True))\n",
        "    fan_in, _ = nn.init._calculate_fan_in_and_fan_out(W2)\n",
        "    bound = 1 / np.sqrt(fan_in)\n",
        "    nn.init.uniform_(W2, -bound, bound)\n",
        "    return W1, W2"
      ],
      "metadata": {
        "id": "6wt4agZbMldc"
      },
      "id": "6wt4agZbMldc",
      "execution_count": null,
      "outputs": []
    },
    {
      "cell_type": "markdown",
      "source": [
        "#### Forward path calculation function: snn()"
      ],
      "metadata": {
        "id": "s5LKfcTBMQKJ"
      },
      "id": "s5LKfcTBMQKJ"
    },
    {
      "cell_type": "code",
      "execution_count": null,
      "id": "7b072bb5",
      "metadata": {
        "id": "7b072bb5"
      },
      "outputs": [],
      "source": [
        "\n",
        "\n",
        "# Run the simulation\n",
        "def snn(input_spikes, W1, W2, tau=20*ms):\n",
        "    # First layer: input to hidden\n",
        "    v = torch.zeros((batch_size, num_hidden), device=device, dtype=dtype)\n",
        "    s = torch.zeros((batch_size, num_hidden), device=device, dtype=dtype)\n",
        "    s_rec = [s]\n",
        "    h = torch.einsum(\"abc,cd->abd\", (input_spikes, W1))\n",
        "    alpha = np.exp(-dt/tau)\n",
        "    for t in range(duration_steps - 1):\n",
        "        new_v = (alpha*v + h[:, t, :])*(1-s) # multiply by 0 after a spike\n",
        "        s = spike_fn(v-1) # threshold of 1\n",
        "        v = new_v\n",
        "        s_rec.append(s)\n",
        "    s_rec = torch.stack(s_rec, dim=1)\n",
        "    # Second layer: hidden to output\n",
        "    v = torch.zeros((batch_size, num_classes), device=device, dtype=dtype)\n",
        "    s = torch.zeros((batch_size, num_classes), device=device, dtype=dtype)\n",
        "    v_rec = [v]\n",
        "    h = torch.einsum(\"abc,cd->abd\", (s_rec, W2))\n",
        "    alpha = np.exp(-dt/tau)\n",
        "    for t in range(duration_steps - 1):\n",
        "        # v = alpha * v + torch.where(h[:, t, :] > 0, h[:, t, :], torch.zeros_like(h[:, t, :]))   # VB  allow only positive inputs to change the membrane pot.\n",
        "        v = alpha*v + h[:, t, :]\n",
        "        v_rec.append(v)\n",
        "    v_rec = torch.stack(v_rec, dim=1)\n",
        "    # Return recorded membrane potential of output\n",
        "    return v_rec"
      ]
    },
    {
      "cell_type": "markdown",
      "metadata": {
        "id": "8b4fce85"
      },
      "source": [
        "## Analysis Function\n",
        "\n",
        "This function computes the training and test accuracy, and plots histograms and confusion matrices to understand the errors it's making."
      ],
      "id": "8b4fce85"
    },
    {
      "cell_type": "code",
      "execution_count": null,
      "metadata": {
        "id": "9cc91c87"
      },
      "outputs": [],
      "source": [
        "def analyse(ipds, spikes, label, run, plot_analysis=1):\n",
        "    \"\"\"\n",
        "    Analyse the performance of a classifier on interaural phase difference (IPD) data.\n",
        "\n",
        "    This function evaluates the accuracy and error of a classifier by comparing its\n",
        "    output with true IPD values. It computes the mean and standard deviation of the\n",
        "    classifier's accuracy and the absolute error in degrees. Additionally, it can\n",
        "    generate histograms and a confusion matrix to visualize the results.\n",
        "\n",
        "    Parameters:\n",
        "    ipds (array): Array of true IPD values.\n",
        "    spikes (array): Array of spike data corresponding to the IPDs.\n",
        "    label (str): Label for the data, used in plot titles.\n",
        "    run (callable): Function that runs the classifier on a batch of spike data.\n",
        "    plot_analysis (bool, optional): If True, plot histograms and confusion matrix.\n",
        "\n",
        "    Returns:\n",
        "    tuple: Tuple containing mean and standard deviation of classifier accuracy,\n",
        "           and mean and standard deviation of absolute error in degrees.\n",
        "    \"\"\"\n",
        "    # Initialize lists to store batch-wise accuracies, true IPD values, and estimated IPD values.\n",
        "    accs = []           # Stores accuracy for each batch\n",
        "    ipd_true = []       # Stores the true IPD values\n",
        "    ipd_estimated = []        # Stores the estimated IPD values\n",
        "\n",
        "    # Initialize the confusion matrix for classifier evaluation\n",
        "    confusion = np.zeros((num_classes, num_classes))\n",
        "\n",
        "    # Iterate over batches of data (spikes and corresponding IPDs) generated randomly\n",
        "    for spike_batch, ipd_batch in data_generator(ipds, spikes): #Generate batches of data, iterating over IPDs and spikes in a randomized order.\n",
        "        # Discretize the IPD values in the batch by mapping them to their respective classes\n",
        "        ipd_class_batch = discretise(ipd_batch)\n",
        "\n",
        "        # Run the neural network classifier on the spike batch\n",
        "        output = run(spike_batch)\n",
        "\n",
        "        # Aggregate the network's output over the time dimension\n",
        "        m = torch.sum(output, 1)\n",
        "\n",
        "        # Use argmax to select the class with the highest score\n",
        "        _, ipd_class_batch_estimated = torch.max(m, 1)\n",
        "            # Note: We don’t use softmax(m) in the forward path but only torch.max(m) because:\n",
        "            # - The task only requires class estimated, not probabilities.\n",
        "            # - torch.max is sufficient to identify the estimated class index.\n",
        "            # - Softmax would add unnecessary computational cost without affecting the correctness of the predictions.\n",
        "\n",
        "\n",
        "        # Update the confusion matrix with true and estimated class values\n",
        "        for i, j in zip(ipd_class_batch.detach().cpu().numpy(), ipd_class_batch_estimated.detach().cpu().numpy()):  # update the confusion matrix\n",
        "            confusion[j, i] += 1\n",
        "            # This code updates a confusion matrix by counting occurrences of true and predicted class pairs for a batch of data:\n",
        "                # confusion[j, i] += 1:\n",
        "                # - Increments the matrix cell at (j, i):\n",
        "                #   - j: Predicted class.\n",
        "                #   - i: True class.\n",
        "                # - Tracks how often class i is predicted as class j.\n",
        "\n",
        "\n",
        "        # Append the original IPD values to the true IPD list\n",
        "        ipd_true.append(ipd_batch) # creates a list of arrays\n",
        "\n",
        "        # Convert the argmax predictions back to continuous values and append to estimated IPDs\n",
        "        ipd_estimated.append(continuise(ipd_class_batch_estimated.detach().cpu().numpy()))\n",
        "\n",
        "        # Calculate batch accuracy by comparing predictions to labels\n",
        "        tmp = np.mean((ipd_class_batch == ipd_class_batch_estimated).detach().cpu().numpy())  # compare to labels\n",
        "        accs.append(tmp) # Append batch accuracy to the list\n",
        "\n",
        "    # Flatten the lists of true and estimated IPDs into single arrays\n",
        "    ipd_true = np.hstack(ipd_true) # connetecates the arrays in the list horizontally to create a single flattened array\n",
        "    ipd_estimated = np.hstack(ipd_estimated)\n",
        "\n",
        "    # Compute absolute errors in degrees between true and estimated IPDs\n",
        "    abs_errors_deg = abs(ipd_true-ipd_estimated)*180/np.pi\n",
        "\n",
        "    # Calculate mean and standard deviation of the classifier accuracy in percentage\n",
        "    classifier_accuracy_mean = 100*np.mean(accs) # in percent\n",
        "    classifier_accuracy_std = 100*np.std(accs) # in percent\n",
        "\n",
        "    # Calculate mean and standard deviation of the absolute error in degrees\n",
        "    absolute_error_mean = np.mean(abs_errors_deg) # in degree\n",
        "    absolute_error_std = np.std(abs_errors_deg) # in degree\n",
        "\n",
        "    # Print results for the classifier's accuracy and absolute error\n",
        "    print(f\"{label} classifier accuracy: {100*np.mean(accs):.1f}%\")\n",
        "    print(f\"{label} absolute error: {np.mean(abs_errors_deg):.1f} deg \\n\")\n",
        "\n",
        "    # If visualization is requested, plot the results\n",
        "    if plot_analysis:\n",
        "      plt.figure(figsize=(10, 4), dpi=100)\n",
        "\n",
        "      # Plot histograms of true and estimated IPDs\n",
        "      plt.subplot(121)\n",
        "      plt.hist(ipd_true*180/np.pi, bins=num_classes, label='True')\n",
        "      plt.hist(ipd_estimated*180/np.pi, bins=num_classes, label='Estimated')\n",
        "      plt.xlabel(\"IPD\")\n",
        "      plt.yticks([])\n",
        "      plt.legend(loc='best')\n",
        "      plt.title(label)\n",
        "\n",
        "      # Normalize the confusion matrix and plot it\n",
        "      plt.subplot(122)\n",
        "      confusion /= np.sum(confusion, axis=0)[np.newaxis, :]\n",
        "      ConfusionMatrix = plt.imshow(confusion, interpolation='nearest', aspect='auto', origin='lower', extent=(-90, 90, -90, 90))\n",
        "      plt.xlabel('True IPD')\n",
        "      plt.ylabel('Estimated IPD')\n",
        "      plt.title('Confusion matrix')\n",
        "      plt.tight_layout()\n",
        "\n",
        "      # Add a color bar with the label \"Probability\"\n",
        "      cbar = plt.colorbar(ConfusionMatrix)  # Add color bar\n",
        "      cbar.set_label('Probability')  # Set the label for the color bar\n",
        "      plt.tight_layout()\n",
        "\n",
        "    # Return the computed metrics\n",
        "    return classifier_accuracy_mean, classifier_accuracy_std, absolute_error_mean, absolute_error_std\n"
      ],
      "id": "9cc91c87"
    },
    {
      "cell_type": "markdown",
      "id": "0a1662e0",
      "metadata": {
        "id": "0a1662e0"
      },
      "source": [
        "## Test: Training and Analyses\n",
        "\n",
        "We train it as before, except that we modify the functions to take the two weight matrices into account."
      ]
    },
    {
      "cell_type": "markdown",
      "source": [],
      "metadata": {
        "id": "R6YKK_5EdBB9"
      },
      "id": "R6YKK_5EdBB9"
    },
    {
      "cell_type": "code",
      "execution_count": null,
      "id": "a5d558df",
      "metadata": {
        "id": "a5d558df",
        "colab": {
          "base_uri": "https://localhost:8080/",
          "height": 683
        },
        "outputId": "900a7496-7334-469c-b9e6-bd0c84cb649e"
      },
      "outputs": [
        {
          "output_type": "stream",
          "name": "stdout",
          "text": [
            "Want loss for epoch 1 to be about 2.48, multiply m by constant to get this\n",
            "Epoch 1: loss=2.23891\n",
            "Epoch 2: loss=1.25036\n",
            "Epoch 3: loss=0.91745\n",
            "Epoch 4: loss=0.80256\n",
            "Epoch 5: loss=0.71790\n",
            "Epoch 6: loss=0.65367\n",
            "Epoch 7: loss=0.64448\n",
            "Epoch 8: loss=0.61247\n",
            "Epoch 9: loss=0.54778\n",
            "Epoch 10: loss=0.54693\n"
          ]
        },
        {
          "output_type": "display_data",
          "data": {
            "text/plain": [
              "<Figure size 640x480 with 1 Axes>"
            ],
            "image/png": "[encoded data removed]"
          },
          "metadata": {}
        }
      ],
      "source": [
        "# TRAINING\n",
        "\n",
        "# Training parameters\n",
        "nb_epochs = 10 # is quick, it won't have converged.\n",
        "# Note: An epoch is one complete pass through the entire training dataset.\n",
        "# During an epoch, the neural network processes every example in the dataset once.\n",
        "# Completing an epoch means that every data point has been used for calculating the loss and updating the model parameters.\n",
        "# Multiple epochs are usually required for the network to converge to an optimal set of parameters.\n",
        "lr = 0.01 # learning rate\n",
        "\n",
        "# Generate the training data\n",
        "ipds, spikes, _ = random_ipd_input_signal(num_samples) # num_samples = batch_size * num_training\n",
        "\n",
        "# Initialise a weight matrices\n",
        "W1, W2 = init_weight_matrices()\n",
        "\n",
        "# Optimiser and loss function\n",
        "optimizer = torch.optim.Adam([W1, W2], lr=lr)\n",
        "log_softmax_fn = nn.LogSoftmax(dim=1)\n",
        "loss_fn = nn.NLLLoss()\n",
        "\n",
        "print(f\"Want loss for epoch 1 to be about {-np.log(1/num_classes):.2f}, multiply m by constant to get this\")\n",
        "\n",
        "loss_hist = []\n",
        "for e in range(nb_epochs):\n",
        "    local_loss = []\n",
        "    for spike_batch, ipd_batch in data_generator(discretise(ipds), spikes):\n",
        "        # Run network\n",
        "        output = snn(spike_batch, W1, W2)\n",
        "\n",
        "        # Compute cross entropy loss\n",
        "        m = torch.sum(output, 1)*0.01  # Agregation fuction: Sum across time dimension. Note: We want loss for epoch 1 to be about -np.log(1/num_classes), multiply m by a constant to get this\n",
        "        loss = loss_fn(log_softmax_fn(m), ipd_batch)\n",
        "        local_loss.append(loss.item())\n",
        "\n",
        "        # The softmax function transforms the output of a neural network's final layer into a probability\n",
        "        # distribution over multiple classes in such a way that increasing the score of one class\n",
        "        # decreases the probabilities of the other classes. It does this by exponentiating each logit\n",
        "        # and then normalizing these values so that they sum to 1. This is important because it ensures that\n",
        "        # the predicted values for each class sum up to 1.0. This probability distribution allows us to\n",
        "        # interpret the network's output as the likelihood of each class being the correct class.\n",
        "        # Training Objective: The training process aims to increase the probability of the correct class.\n",
        "          # As the model updates its weights to increase the probability (and hence the log probability) of the\n",
        "          # correct class, the softmax function inherently decreases the probabilities of the other classes due\n",
        "          # to the normalization step.\n",
        "          # Using it with the negative log likelihood loss encourages the model to increase the log probability\n",
        "          # of the correct class.\n",
        "        # Interpretability: The softmax function's output can be interpreted as class probabilities, which is\n",
        "          # valuable not only for making predictions but also for understanding the model's confidence in those\n",
        "          # predictions. This can be useful for post-processing or decision-making based on the network's output\n",
        "          # probabilities.\n",
        "\n",
        "        # Update gradients\n",
        "        optimizer.zero_grad()\n",
        "        loss.backward()\n",
        "        optimizer.step()\n",
        "\n",
        "    loss_hist.append(np.mean(local_loss))\n",
        "    print(\"Epoch %i: loss=%.5f\"%(e+1, np.mean(local_loss)))\n",
        "\n",
        "# Plot the loss function over time\n",
        "plt.plot(loss_hist)\n",
        "plt.xlabel('Epoch')\n",
        "plt.ylabel('Loss')\n",
        "plt.tight_layout()\n"
      ]
    },
    {
      "cell_type": "code",
      "source": [
        "# ANALYSIS\n",
        "\n",
        "print(f\"Chance accuracy level: {100*1/num_classes:.1f}%\")\n",
        "run_func = lambda x: snn(x, W1, W2)\n",
        "results_Train = analyse(ipds, spikes, 'Train', run=run_func, plot_analysis=1)\n",
        "ipds_test, spikes_test, _ = random_ipd_input_signal(batch_size*n_testing_batches)\n",
        "results_Train = analyse(ipds_test, spikes_test, 'Test', run=run_func, plot_analysis=1)"
      ],
      "metadata": {
        "colab": {
          "base_uri": "https://localhost:8080/",
          "height": 790
        },
        "id": "YYmxcDagJkcw",
        "outputId": "92581f74-5c57-43f6-faf4-060c50b99b01"
      },
      "id": "YYmxcDagJkcw",
      "execution_count": null,
      "outputs": [
        {
          "output_type": "stream",
          "name": "stdout",
          "text": [
            "Chance accuracy level: 8.3%\n",
            "Train classifier accuracy: 81.9%\n",
            "Train absolute error: 4.8 deg \n",
            "\n",
            "Test classifier accuracy: 59.8%\n",
            "Test absolute error: 7.3 deg \n",
            "\n"
          ]
        },
        {
          "output_type": "display_data",
          "data": {
            "text/plain": [
              "<Figure size 1000x400 with 3 Axes>"
            ],
            "image/png": "[encoded data removed]"
          },
          "metadata": {}
        },
        {
          "output_type": "display_data",
          "data": {
            "text/plain": [
              "<Figure size 1000x400 with 3 Axes>"
            ],
            "image/png": "[encoded data removed]"
          },
          "metadata": {}
        }
      ]
    },
    {
      "cell_type": "markdown",
      "id": "26e19d66",
      "metadata": {
        "id": "26e19d66"
      },
      "source": [
        "## Project\n",
        "Change systematically some of the parameters and record the performance. You can do this for example by running the following code in a loop:"
      ]
    },
    {
      "cell_type": "markdown",
      "source": [
        "#### Example project: Envelope power\n"
      ],
      "metadata": {
        "id": "Ne6AXxucb3oQ"
      },
      "id": "Ne6AXxucb3oQ"
    },
    {
      "cell_type": "markdown",
      "source": [
        "This code performs an analysis of the performance of a spiking neural network (SNN) classifier across a range of envelope power values.\n",
        "\n",
        "Please note that the current code only plots the result of a single training session.\n",
        "\n",
        "\n",
        "##### Suggestion for improvement:\n",
        "  \n",
        "* Run the example code from the EnvelopePower project multiple times.\n",
        "\n",
        "* You will notice that the results vary significantly between consecutive training sessions.\n",
        "\n",
        "* To draw robust conclusions, calculate the average across all training sessions.\n",
        "\n",
        "* Then, plot a graph with the average and the corresponding standard deviation.\n",
        "\n",
        "* Apply this same approach to your other projects to obtain reliable results."
      ],
      "metadata": {
        "id": "Dfl7Tyy-mJY0"
      },
      "id": "Dfl7Tyy-mJY0"
    },
    {
      "cell_type": "code",
      "source": [
        "from tqdm import tqdm # Import the tqdm library for displaying a progress bar\n",
        "\n",
        "# Set training parameters\n",
        "nb_epochs = 10  # Number of epochs (quick training for demonstration)\n",
        "lr = 0.01       # Learning rate\n",
        "\n",
        "# Flag for whether to plot analysis results\n",
        "plot_analysis = 0\n",
        "\n",
        "# Define a range of envelope powers to test\n",
        "Envelop_powers = [0, 1, 2, 3, 4, 5, 10, 30, 40, 50, 100]\n",
        "\n",
        "# Initialize lists to store results for training and testing accuracy and absolute error.\n",
        "# Mean and std are calulated over the different batches\n",
        "Train_accuracy_mean = []   # Mean training accuracy\n",
        "Train_accuracy_std = []    # Standard deviation of training accuracy\n",
        "Train_abs_error_mean = []  # Mean training absolute error\n",
        "Train_abs_error_std = []   # Standard deviation of training absolute error\n",
        "\n",
        "Test_accuracy_mean = []    # Mean testing accuracy\n",
        "Test_accuracy_std = []     # Standard deviation of testing accuracy\n",
        "Test_abs_error_mean = []   # Mean testing absolute error\n",
        "Test_abs_error_std = []    # Standard deviation of testing absolute error\n",
        "\n",
        "results_Train = []  # Stores results from training data\n",
        "results_Test = []   # Stores results from test data\n",
        "\n",
        "# Loop through each envelope power, showing progress with tqdm\n",
        "for i, envelope_power in enumerate(tqdm(Envelop_powers, desc=\"Processing Envelope Powers\")):\n",
        "\n",
        "    # Generate training data: interaural phase differences (IPDs) and spike data\n",
        "    ipds, spikes, _ = random_ipd_input_signal(num_samples)\n",
        "    plt.imshow(spikes[0, :, :].T, aspect='auto', interpolation='nearest', cmap=plt.cm.gray_r)\n",
        "\n",
        "    # Initialize weight matrices for the neural network classifier\n",
        "    W1, W2 = init_weight_matrices()\n",
        "\n",
        "    # Define the optimizer and loss functions\n",
        "    optimizer = torch.optim.Adam([W1, W2], lr=lr)\n",
        "    log_softmax_fn = nn.LogSoftmax(dim=1)\n",
        "    loss_fn = nn.NLLLoss()\n",
        "\n",
        "    # Print the expected initial loss\n",
        "    print(f\"Want loss for epoch 1 to be about {-np.log(1/num_classes):.2f}, multiply m by constant to get this\")\n",
        "\n",
        "    loss_hist = []  # Track loss over epochs\n",
        "    for e in range(nb_epochs):  # Loop through each epoch\n",
        "        local_loss = []  # Track batch losses for the current epoch\n",
        "        for spike_batch, ipd_batch in data_generator(discretise(ipds), spikes):  # Generate data batches\n",
        "            # Run the classifier on the batch\n",
        "            output = snn(spike_batch, W1, W2)\n",
        "\n",
        "            # Compute cross-entropy loss\n",
        "            m = torch.sum(output, 1) * 0.01  # Aggregate output over the time dimension\n",
        "            loss = loss_fn(log_softmax_fn(m), ipd_batch)\n",
        "            local_loss.append(loss.item())\n",
        "\n",
        "            # Update weights\n",
        "            optimizer.zero_grad()\n",
        "            loss.backward()\n",
        "            optimizer.step()\n",
        "\n",
        "        # Append the mean loss for the epoch\n",
        "        loss_hist.append(np.mean(local_loss))\n",
        "        print(\"Epoch %i: loss=%.5f\" % (e + 1, np.mean(local_loss)))\n",
        "\n",
        "    # Optionally plot the loss curve over epochs\n",
        "    if plot_analysis:\n",
        "      # Plot the loss function over time\n",
        "      plt.plot(loss_hist)\n",
        "      plt.xlabel('Epoch')\n",
        "      plt.ylabel('Loss')\n",
        "      plt.tight_layout()\n",
        "\n",
        "\n",
        "    # Analyse training data\n",
        "    print(f\"Chance accuracy level: {100*1/num_classes:.1f}%\")\n",
        "\n",
        "    run_func = lambda x: snn(x, W1, W2) # Define the classifier function\n",
        "    results_Train = analyse(ipds, spikes, 'Train', run=run_func, plot_analysis=0)\n",
        "\n",
        "    # Generate and analyse test data\n",
        "    ipds_test, spikes_test, _ = random_ipd_input_signal(batch_size*n_testing_batches)\n",
        "    results_Test = analyse(ipds_test, spikes_test, 'Test', run=run_func, plot_analysis=0)\n",
        "\n",
        "    # Append training results\n",
        "    Train_accuracy_mean.append(results_Train[0])\n",
        "    Train_accuracy_std.append(results_Train[1])\n",
        "    Train_abs_error_mean.append(results_Train[2])\n",
        "    Train_abs_error_std.append(results_Train[3])\n",
        "\n",
        "    # Append testing results\n",
        "    Test_accuracy_mean.append(results_Test[0])\n",
        "    Test_accuracy_std.append(results_Test[1])\n",
        "    Test_abs_error_mean.append(results_Test[2])\n",
        "    Test_abs_error_std.append(results_Test[3])\n",
        "\n",
        "# Plot training and testing accuracy with error bars\n",
        "plt.figure(figsize=(8, 6))\n",
        "plt.errorbar(Envelop_powers,Train_accuracy_mean, yerr=Train_accuracy_std, label='Training',fmt='o', ecolor='blue', capsize=5)\n",
        "plt.errorbar(Envelop_powers,Test_accuracy_mean, yerr=Test_accuracy_std, label='Test', fmt='o', ecolor='red', capsize=5)\n",
        "plt.ylim([0,100])\n",
        "plt.xlim([-1,50])\n",
        "plt.xlabel('Envelop Power')\n",
        "plt.ylabel('Accurancy (mean+/-std (%))')\n",
        "plt.legend()\n",
        "\n",
        "# Plot training and testing absolute error with error bars\n",
        "plt.figure(figsize=(8, 6))\n",
        "plt.errorbar(Envelop_powers,Train_abs_error_mean, yerr=Train_abs_error_std, label='Training',fmt='o', ecolor='blue', capsize=5)\n",
        "plt.errorbar(Envelop_powers,Test_abs_error_mean, yerr=Test_abs_error_std, label='Test', fmt='o', ecolor='red', capsize=5)\n",
        "plt.ylim([0,100])\n",
        "plt.xlim([-1,50])\n",
        "plt.xlabel('Envelop Power')\n",
        "plt.ylabel('Abs_error (mean+/-std (deg))')\n",
        "plt.legend()"
      ],
      "metadata": {
        "colab": {
          "base_uri": "https://localhost:8080/",
          "height": 1000
        },
        "id": "yf14Jn81LBu3",
        "outputId": "eabc8114-8fc2-47a0-d332-0293f39dfff0"
      },
      "id": "yf14Jn81LBu3",
      "execution_count": null,
      "outputs": [
        {
          "output_type": "stream",
          "name": "stderr",
          "text": [
            "\rProcessing Envelope Powers:   0%|          | 0/11 [00:00<?, ?it/s]"
          ]
        },
        {
          "output_type": "stream",
          "name": "stdout",
          "text": [
            "Want loss for epoch 1 to be about 2.48, multiply m by constant to get this\n",
            "Epoch 1: loss=2.89531\n",
            "Epoch 2: loss=2.56350\n",
            "Epoch 3: loss=2.55688\n",
            "Epoch 4: loss=2.54151\n",
            "Epoch 5: loss=2.55867\n",
            "Epoch 6: loss=2.56998\n",
            "Epoch 7: loss=2.57487\n",
            "Epoch 8: loss=2.54971\n",
            "Epoch 9: loss=2.57314\n",
            "Epoch 10: loss=2.55917\n",
            "Chance accuracy level: 8.3%\n",
            "Train classifier accuracy: 8.5%\n",
            "Train absolute error: 81.6 deg \n",
            "\n"
          ]
        },
        {
          "output_type": "stream",
          "name": "stderr",
          "text": [
            "\rProcessing Envelope Powers:   9%|▉         | 1/11 [01:35<15:53, 95.36s/it]"
          ]
        },
        {
          "output_type": "stream",
          "name": "stdout",
          "text": [
            "Test classifier accuracy: 9.0%\n",
            "Test absolute error: 81.9 deg \n",
            "\n",
            "Want loss for epoch 1 to be about 2.48, multiply m by constant to get this\n",
            "Epoch 1: loss=2.33419\n",
            "Epoch 2: loss=1.65441\n",
            "Epoch 3: loss=1.36353\n",
            "Epoch 4: loss=1.17711\n",
            "Epoch 5: loss=1.04945\n",
            "Epoch 6: loss=0.96698\n",
            "Epoch 7: loss=0.88339\n",
            "Epoch 8: loss=0.84959\n",
            "Epoch 9: loss=0.79340\n",
            "Epoch 10: loss=0.76301\n",
            "Chance accuracy level: 8.3%\n",
            "Train classifier accuracy: 75.3%\n",
            "Train absolute error: 5.4 deg \n",
            "\n"
          ]
        },
        {
          "output_type": "stream",
          "name": "stderr",
          "text": [
            "\rProcessing Envelope Powers:  18%|█▊        | 2/11 [03:17<14:51, 99.10s/it]"
          ]
        },
        {
          "output_type": "stream",
          "name": "stdout",
          "text": [
            "Test classifier accuracy: 37.7%\n",
            "Test absolute error: 18.0 deg \n",
            "\n",
            "Want loss for epoch 1 to be about 2.48, multiply m by constant to get this\n",
            "Epoch 1: loss=2.07705\n",
            "Epoch 2: loss=1.19594\n",
            "Epoch 3: loss=0.90318\n",
            "Epoch 4: loss=0.77414\n",
            "Epoch 5: loss=0.68335\n",
            "Epoch 6: loss=0.62182\n",
            "Epoch 7: loss=0.56845\n",
            "Epoch 8: loss=0.53625\n",
            "Epoch 9: loss=0.50982\n",
            "Epoch 10: loss=0.47362\n",
            "Chance accuracy level: 8.3%\n",
            "Train classifier accuracy: 82.3%\n",
            "Train absolute error: 4.8 deg \n",
            "\n"
          ]
        },
        {
          "output_type": "stream",
          "name": "stderr",
          "text": [
            "\rProcessing Envelope Powers:  27%|██▋       | 3/11 [04:54<13:07, 98.40s/it]"
          ]
        },
        {
          "output_type": "stream",
          "name": "stdout",
          "text": [
            "Test classifier accuracy: 73.1%\n",
            "Test absolute error: 5.5 deg \n",
            "\n",
            "Want loss for epoch 1 to be about 2.48, multiply m by constant to get this\n",
            "Epoch 1: loss=2.25014\n",
            "Epoch 2: loss=1.42326\n",
            "Epoch 3: loss=1.06085\n",
            "Epoch 4: loss=0.84206\n",
            "Epoch 5: loss=0.76002\n",
            "Epoch 6: loss=0.69099\n",
            "Epoch 7: loss=0.63662\n",
            "Epoch 8: loss=0.59027\n",
            "Epoch 9: loss=0.54963\n",
            "Epoch 10: loss=0.51739\n",
            "Chance accuracy level: 8.3%\n",
            "Train classifier accuracy: 85.9%\n",
            "Train absolute error: 4.3 deg \n",
            "\n"
          ]
        },
        {
          "output_type": "stream",
          "name": "stderr",
          "text": [
            "\rProcessing Envelope Powers:  36%|███▋      | 4/11 [06:51<12:20, 105.83s/it]"
          ]
        },
        {
          "output_type": "stream",
          "name": "stdout",
          "text": [
            "Test classifier accuracy: 72.0%\n",
            "Test absolute error: 5.5 deg \n",
            "\n",
            "Want loss for epoch 1 to be about 2.48, multiply m by constant to get this\n",
            "Epoch 1: loss=2.39491\n",
            "Epoch 2: loss=1.73719\n",
            "Epoch 3: loss=1.19429\n",
            "Epoch 4: loss=0.94996\n",
            "Epoch 5: loss=0.81627\n",
            "Epoch 6: loss=0.71599\n",
            "Epoch 7: loss=0.67003\n",
            "Epoch 8: loss=0.61524\n",
            "Epoch 9: loss=0.58288\n",
            "Epoch 10: loss=0.54043\n",
            "Chance accuracy level: 8.3%\n",
            "Train classifier accuracy: 82.2%\n",
            "Train absolute error: 4.7 deg \n",
            "\n"
          ]
        },
        {
          "output_type": "stream",
          "name": "stderr",
          "text": [
            "\rProcessing Envelope Powers:  45%|████▌     | 5/11 [08:44<10:50, 108.43s/it]"
          ]
        },
        {
          "output_type": "stream",
          "name": "stdout",
          "text": [
            "Test classifier accuracy: 42.1%\n",
            "Test absolute error: 10.0 deg \n",
            "\n",
            "Want loss for epoch 1 to be about 2.48, multiply m by constant to get this\n",
            "Epoch 1: loss=1.82377\n",
            "Epoch 2: loss=1.07421\n",
            "Epoch 3: loss=0.83659\n",
            "Epoch 4: loss=0.70984\n",
            "Epoch 5: loss=0.60545\n",
            "Epoch 6: loss=0.59717\n",
            "Epoch 7: loss=0.50561\n",
            "Epoch 8: loss=0.49164\n",
            "Epoch 9: loss=0.43368\n",
            "Epoch 10: loss=0.42457\n",
            "Chance accuracy level: 8.3%\n",
            "Train classifier accuracy: 82.3%\n",
            "Train absolute error: 4.9 deg \n",
            "\n"
          ]
        },
        {
          "output_type": "stream",
          "name": "stderr",
          "text": [
            "\rProcessing Envelope Powers:  55%|█████▍    | 6/11 [10:29<08:56, 107.28s/it]"
          ]
        },
        {
          "output_type": "stream",
          "name": "stdout",
          "text": [
            "Test classifier accuracy: 66.3%\n",
            "Test absolute error: 6.4 deg \n",
            "\n",
            "Want loss for epoch 1 to be about 2.48, multiply m by constant to get this\n",
            "Epoch 1: loss=1.80832\n",
            "Epoch 2: loss=1.06946\n",
            "Epoch 3: loss=0.85821\n",
            "Epoch 4: loss=0.75574\n",
            "Epoch 5: loss=0.65996\n",
            "Epoch 6: loss=0.60306\n",
            "Epoch 7: loss=0.55271\n",
            "Epoch 8: loss=0.55661\n",
            "Epoch 9: loss=0.50147\n",
            "Epoch 10: loss=0.46506\n",
            "Chance accuracy level: 8.3%\n",
            "Train classifier accuracy: 84.3%\n",
            "Train absolute error: 4.6 deg \n",
            "\n"
          ]
        },
        {
          "output_type": "stream",
          "name": "stderr",
          "text": [
            "\rProcessing Envelope Powers:  64%|██████▎   | 7/11 [12:03<06:50, 102.69s/it]"
          ]
        },
        {
          "output_type": "stream",
          "name": "stdout",
          "text": [
            "Test classifier accuracy: 59.3%\n",
            "Test absolute error: 10.1 deg \n",
            "\n",
            "Want loss for epoch 1 to be about 2.48, multiply m by constant to get this\n",
            "Epoch 1: loss=1.58658\n",
            "Epoch 2: loss=0.82139\n",
            "Epoch 3: loss=0.62033\n",
            "Epoch 4: loss=0.52556\n",
            "Epoch 5: loss=0.45369\n",
            "Epoch 6: loss=0.39074\n",
            "Epoch 7: loss=0.35321\n",
            "Epoch 8: loss=0.31767\n",
            "Epoch 9: loss=0.31205\n",
            "Epoch 10: loss=0.28176\n",
            "Chance accuracy level: 8.3%\n",
            "Train classifier accuracy: 92.2%\n",
            "Train absolute error: 4.0 deg \n",
            "\n"
          ]
        },
        {
          "output_type": "stream",
          "name": "stderr",
          "text": [
            "\rProcessing Envelope Powers:  73%|███████▎  | 8/11 [13:29<04:52, 97.35s/it] "
          ]
        },
        {
          "output_type": "stream",
          "name": "stdout",
          "text": [
            "Test classifier accuracy: 65.3%\n",
            "Test absolute error: 8.2 deg \n",
            "\n",
            "Want loss for epoch 1 to be about 2.48, multiply m by constant to get this\n",
            "Epoch 1: loss=1.52652\n",
            "Epoch 2: loss=0.84618\n",
            "Epoch 3: loss=0.62511\n",
            "Epoch 4: loss=0.50149\n",
            "Epoch 5: loss=0.44108\n",
            "Epoch 6: loss=0.39021\n",
            "Epoch 7: loss=0.35989\n",
            "Epoch 8: loss=0.33581\n",
            "Epoch 9: loss=0.29677\n",
            "Epoch 10: loss=0.26981\n",
            "Chance accuracy level: 8.3%\n",
            "Train classifier accuracy: 92.3%\n",
            "Train absolute error: 4.1 deg \n",
            "\n"
          ]
        },
        {
          "output_type": "stream",
          "name": "stderr",
          "text": [
            "\rProcessing Envelope Powers:  82%|████████▏ | 9/11 [14:56<03:08, 94.10s/it]"
          ]
        },
        {
          "output_type": "stream",
          "name": "stdout",
          "text": [
            "Test classifier accuracy: 42.0%\n",
            "Test absolute error: 18.3 deg \n",
            "\n",
            "Want loss for epoch 1 to be about 2.48, multiply m by constant to get this\n",
            "Epoch 1: loss=1.63794\n",
            "Epoch 2: loss=0.84684\n",
            "Epoch 3: loss=0.61129\n",
            "Epoch 4: loss=0.48286\n",
            "Epoch 5: loss=0.42421\n",
            "Epoch 6: loss=0.37670\n",
            "Epoch 7: loss=0.34275\n",
            "Epoch 8: loss=0.32541\n",
            "Epoch 9: loss=0.31193\n",
            "Epoch 10: loss=0.27732\n",
            "Chance accuracy level: 8.3%\n",
            "Train classifier accuracy: 92.3%\n",
            "Train absolute error: 4.0 deg \n",
            "\n"
          ]
        },
        {
          "output_type": "stream",
          "name": "stderr",
          "text": [
            "\rProcessing Envelope Powers:  91%|█████████ | 10/11 [16:23<01:32, 92.13s/it]"
          ]
        },
        {
          "output_type": "stream",
          "name": "stdout",
          "text": [
            "Test classifier accuracy: 84.4%\n",
            "Test absolute error: 4.4 deg \n",
            "\n",
            "Want loss for epoch 1 to be about 2.48, multiply m by constant to get this\n",
            "Epoch 1: loss=1.57687\n",
            "Epoch 2: loss=0.91794\n",
            "Epoch 3: loss=0.69698\n",
            "Epoch 4: loss=0.57263\n",
            "Epoch 5: loss=0.50361\n",
            "Epoch 6: loss=0.44204\n",
            "Epoch 7: loss=0.40247\n",
            "Epoch 8: loss=0.37110\n",
            "Epoch 9: loss=0.35624\n",
            "Epoch 10: loss=0.32473\n",
            "Chance accuracy level: 8.3%\n",
            "Train classifier accuracy: 90.1%\n",
            "Train absolute error: 4.3 deg \n",
            "\n"
          ]
        },
        {
          "output_type": "stream",
          "name": "stderr",
          "text": [
            "Processing Envelope Powers: 100%|██████████| 11/11 [17:49<00:00, 97.25s/it]"
          ]
        },
        {
          "output_type": "stream",
          "name": "stdout",
          "text": [
            "Test classifier accuracy: 80.9%\n",
            "Test absolute error: 5.4 deg \n",
            "\n"
          ]
        },
        {
          "output_type": "stream",
          "name": "stderr",
          "text": [
            "\n"
          ]
        },
        {
          "output_type": "execute_result",
          "data": {
            "text/plain": [
              "<matplotlib.legend.Legend at 0x7b9b0b866e60>"
            ]
          },
          "metadata": {},
          "execution_count": 27
        },
        {
          "output_type": "display_data",
          "data": {
            "text/plain": [
              "<Figure size 640x480 with 1 Axes>"
            ],
            "image/png": "[encoded data removed]"
          },
          "metadata": {}
        },
        {
          "output_type": "display_data",
          "data": {
            "text/plain": [
              "<Figure size 800x600 with 1 Axes>"
            ],
            "image/png": "[encoded data removed]"
          },
          "metadata": {}
        },
        {
          "output_type": "display_data",
          "data": {
            "text/plain": [
              "<Figure size 800x600 with 1 Axes>"
            ],
            "image/png": "[encoded data removed]"
          },
          "metadata": {}
        }
      ]
    },
    {
      "cell_type": "code",
      "source": [
        "plt.savefig(\"Proj_EnvelopePower.png\")  # Save the plot as a PNG file\n",
        "\n",
        "!cp Proj_EnvelopePower.png \"/content/drive/My Drive/Mini-Project_ColabNotebooks/SBCP_2024/Results_Figures\"\n",
        "\n",
        "!ls \"/content/drive/My Drive/Mini-Project_ColabNotebooks/SBCP_2024/Results_Figures\"\n"
      ],
      "metadata": {
        "colab": {
          "base_uri": "https://localhost:8080/",
          "height": 53
        },
        "id": "tZ_SqPO-jWLb",
        "outputId": "548720e6-ce13-4225-d564-9825a900fb71"
      },
      "id": "tZ_SqPO-jWLb",
      "execution_count": null,
      "outputs": [
        {
          "output_type": "stream",
          "name": "stdout",
          "text": [
            "example_plot.png  Proj_EnvelopePower.png\n"
          ]
        },
        {
          "output_type": "display_data",
          "data": {
            "text/plain": [
              "<Figure size 640x480 with 0 Axes>"
            ]
          },
          "metadata": {}
        }
      ]
    }
  ],
  "metadata": {
    "kernelspec": {
      "display_name": "Python 3 (ipykernel)",
      "language": "python",
      "name": "python3"
    },
    "language_info": {
      "codemirror_mode": {
        "name": "ipython",
        "version": 3
      },
      "file_extension": ".py",
      "mimetype": "text/x-python",
      "name": "python",
      "nbconvert_exporter": "python",
      "pygments_lexer": "ipython3",
      "version": "3.9.10"
    },
    "colab": {
      "provenance": []
    }
  },
  "nbformat": 4,
  "nbformat_minor": 5
}